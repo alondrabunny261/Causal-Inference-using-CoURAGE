{
 "cells": [
  {
   "cell_type": "code",
   "execution_count": 3,
   "id": "eae466bc",
   "metadata": {},
   "outputs": [],
   "source": [
    "#Librerias\n",
    "import matplotlib.pyplot as plt\n",
    "import os"
   ]
  },
  {
   "cell_type": "code",
   "execution_count": 4,
   "id": "2e29ca2b",
   "metadata": {},
   "outputs": [
    {
     "name": "stdout",
     "output_type": "stream",
     "text": [
      "['crgmetM1.b1.20250523.000000.custom.csv', 'crgmetM1.b1.20250524.000000.custom.csv', 'crgmetM1.b1.20250525.000000.custom.csv', 'crgmetM1.b1.20250526.000000.custom.csv', 'crgmetM1.b1.20250527.000000.custom.csv', 'crgmetM1.b1.20250528.000000.custom.csv', 'crgmetM1.b1.20250529.000000.custom.csv']\n"
     ]
    }
   ],
   "source": [
    "# Get all CSV files in sorted order\n",
    "csv_files = sorted([file for file in os.listdir() if file.endswith(\".csv\")])\n",
    "print(csv_files)\n"
   ]
  },
  {
   "cell_type": "code",
   "execution_count": null,
   "id": "6c51bf9f",
   "metadata": {},
   "outputs": [],
   "source": [
    "# Join Probability Distribution\n",
    "# P(x,y,u)=P(u)P(x|u)P(y|x,u)\n",
    "\n",
    "#A<-B->C : B is fork of this path(common cause)\n",
    "#A->B<-C : B is a collider"
   ]
  },
  {
   "cell_type": "code",
   "execution_count": null,
   "id": "933e8977",
   "metadata": {},
   "outputs": [],
   "source": []
  }
 ],
 "metadata": {
  "kernelspec": {
   "display_name": "Python 3 (ipykernel)",
   "language": "python",
   "name": "python3"
  },
  "language_info": {
   "codemirror_mode": {
    "name": "ipython",
    "version": 3
   },
   "file_extension": ".py",
   "mimetype": "text/x-python",
   "name": "python",
   "nbconvert_exporter": "python",
   "pygments_lexer": "ipython3",
   "version": "3.11.7"
  }
 },
 "nbformat": 4,
 "nbformat_minor": 5
}
