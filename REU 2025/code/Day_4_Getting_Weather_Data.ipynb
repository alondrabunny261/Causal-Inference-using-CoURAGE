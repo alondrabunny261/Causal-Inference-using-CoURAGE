{
  "nbformat": 4,
  "nbformat_minor": 0,
  "metadata": {
    "colab": {
      "provenance": []
    },
    "kernelspec": {
      "name": "python3",
      "display_name": "Python 3"
    },
    "language_info": {
      "name": "python"
    }
  },
  "cells": [
    {
      "cell_type": "markdown",
      "source": [
        "Based on https://medium.com/@gpj/getting-started-with-weather-data-ba7749838549"
      ],
      "metadata": {
        "id": "HKThVeDgNit8"
      }
    },
    {
      "cell_type": "markdown",
      "source": [
        "# Reading in external data\n",
        "\n",
        "In this worksheet, we'll learn how to read in **weather data** like temperature, precipitation, etc. The first thing you'll need to do is get a **token** from the National Oceanic and Atmospheric Administration (NOAA).\n",
        "\n",
        "* Visit https://www.ncdc.noaa.gov/cdo-web/token and follow their instructions to obtain your token. Paste this in to the quotation marks in `token = ''` below.\n",
        "\n",
        "Next, find a **weather station** you'd like to obatin data from. You can use one of the following options:\n",
        "\n",
        "## Graphical Interface (looks nice, but doesn't always work).\n",
        "* Visit https://www.ncdc.noaa.gov/cdo-web/datatools/findstation and search for a city. Select one of the stations that appear.\n",
        "* Under Select Dataset, click on Daily Summaries.\n",
        "* Click on the radio tower ![image.png](data:image/png;base64,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) and copy its ID.\n",
        "* Paste this ID into the quotation marks in `station_id = ''` below.\n",
        "\n",
        "## Text database.\n",
        "* Open https://www.ncei.noaa.gov/pub/data/ghcn/daily/ghcnd-stations.txt and search for a location (Ctrl+F, then type the city name).\n",
        "* Copy the code from the left-hand column.\n",
        "* Paste this ID into the quotation marks in `station_id = ''` below. Type `GHCND:` at the **beginning** of the code you copy and paste.\n",
        "\n",
        "\n",
        "Then run this code cell."
      ],
      "metadata": {
        "id": "9na74NiakgHF"
      }
    },
    {
      "cell_type": "code",
      "source": [
        "token = '' # Add your token to the ''.\n",
        "station_id = 'GHCND:USW00013889'\n",
        "# This is Jacksonville International Airport.\n",
        "# I picked this location because I know it works!\n",
        "# But you can change to another station if you want!\n",
        "# You just need to CHECK for whether the station\n",
        "# you choose has data for all the years you\n",
        "# choose, and CHANGE yearI and yearF accordingly.\n",
        "\n",
        "print('ready to go!')"
      ],
      "metadata": {
        "id": "t9oYuPBuqCgq"
      },
      "execution_count": null,
      "outputs": []
    },
    {
      "cell_type": "markdown",
      "source": [
        "Importing external datasets requires quite a few libraries. Run the code cell below so we can import everything we need."
      ],
      "metadata": {
        "id": "ghMEk_7zu-Uz"
      }
    },
    {
      "cell_type": "code",
      "source": [
        "# Import all the Python libraries we need.\n",
        "import requests\n",
        "import pandas as pd\n",
        "import json\n",
        "import numpy as np\n",
        "from datetime import datetime"
      ],
      "metadata": {
        "id": "S3rKJaugqRMk"
      },
      "execution_count": null,
      "outputs": []
    },
    {
      "cell_type": "markdown",
      "source": [
        "There's a LOT of weather data you can read in! The code cell below reads in temperature (average, minimum, and maximum) and precipitation levels every day within the years `yearI` to `yearF`.\n",
        "\n",
        "Run the code cell below. **There might be an error** if any of this data is missing. (NOAA isn't perfect...) If that happens, try adjusting your year range (`yearI` and `yearF`) until you find a range that works."
      ],
      "metadata": {
        "id": "sEj0j9VavGDR"
      }
    },
    {
      "cell_type": "code",
      "execution_count": null,
      "metadata": {
        "id": "tnrkm90f_id8"
      },
      "outputs": [],
      "source": [
        "# Read in the weather data we want.\n",
        "\n",
        "# Set the initial and final years you want data from.\n",
        "yearI = 2016 # Initial year.\n",
        "yearF = 2020 # Final year.\n",
        "\n",
        "# Initialize lists to store data\n",
        "dates_temp = []\n",
        "dates_prcp = []\n",
        "temps = []\n",
        "minT = []\n",
        "maxT = []\n",
        "prcp = []\n",
        "\n",
        "# For each year from yearI to yearF ...\n",
        "# We need the +1 after yearF because Python's range\n",
        "# function stops short of the last value.\n",
        "for year in range(yearI, yearF+1):\n",
        "    year = str(year) # Turn integer year into text.\n",
        "    print('working on year '+year) # Tell us where we are.\n",
        "\n",
        "    # Make the api call to the necessary urls.\n",
        "    url = 'https://www.ncdc.noaa.gov/cdo-web/api/v2/data?datasetid=GHCND&datatypeid=TAVG&datatypeid=TMAX&limit=1000'\n",
        "    url = url + '&stationid=' + station_id\n",
        "    url = url + '&startdate=' + year + '-01-01'\n",
        "    url = url + '&enddate='   + year + '-12-31'\n",
        "    r = requests.get(url, headers={'token':token})\n",
        "    url = 'https://www.ncdc.noaa.gov/cdo-web/api/v2/data?datasetid=GHCND&datatypeid=TMIN&datatypeid=PRCP&limit=1000'\n",
        "    url = url + '&stationid=' + station_id\n",
        "    url = url + '&startdate=' + year + '-01-01'\n",
        "    url = url + '&enddate='   + year + '-12-31'\n",
        "    r2 = requests.get(url, headers={'token':token})\n",
        "\n",
        "    # Load the api response as a json file.\n",
        "    d = json.loads(r.text)\n",
        "    d2 = json.loads(r2.text)\n",
        "\n",
        "    # Organize the data by type..\n",
        "    # Average temperature.\n",
        "    avg_temps = [item for item in d['results'] if item['datatype']=='TAVG']\n",
        "    # Minimum temperature.\n",
        "    min_temps = [item for item in d2['results'] if item['datatype']=='TMIN']\n",
        "    # Maximum temperature.\n",
        "    max_temps = [item for item in d['results'] if item['datatype']=='TMAX']\n",
        "    # Precipitation.\n",
        "    precp = [item for item in d2['results'] if item['datatype']=='PRCP']\n",
        "    # Dates.\n",
        "    dates_temp += [item['date'] for item in avg_temps]\n",
        "\n",
        "    # Get the actual average temperature from all average temperature readings.\n",
        "    temps += [item['value'] for item in avg_temps]\n",
        "    minT  += [item['value'] for item in min_temps]\n",
        "    maxT  += [item['value'] for item in max_temps]\n",
        "    prcp  += [item['value'] for item in precp]\n",
        "print('finished')\n",
        "\n",
        "# Go to https://www.ncdc.noaa.gov/cdo-web/datasets to find more datatypes available!"
      ]
    },
    {
      "cell_type": "markdown",
      "source": [
        "Now we'll compile all this data into a **database**. A database has columns that hold data (dates, temperatures, inches of rain) all correlated by date in rows. Run this code cell.\n",
        "\n",
        "The `print(df_temp.head())` displays the first few rows of the database. What do you notice about it? Why might it be useful to examine some of the database directly before we proceed?"
      ],
      "metadata": {
        "id": "7ED7p0TzvnaT"
      }
    },
    {
      "cell_type": "code",
      "source": [
        "# Initialize dataframe to hold data.\n",
        "df_temp = pd.DataFrame()\n",
        "print(len(temps),len(minT),len(maxT),len(prcp))\n",
        "# Populate date and average temperature fields\n",
        "# Change text date to datetime formate.\n",
        "df_temp['date'] = [datetime.strptime(d, \"%Y-%m-%dT%H:%M:%S\") for d in dates_temp]\n",
        "# Convert temperature from tenths of Celsius to Fahrenheit.\n",
        "df_temp['avgTemp'] = [float(v)/10.0*1.8 + 32 for v in temps]\n",
        "df_temp['minTemp'] = [float(v)/10.0*1.8 + 32 for v in minT]\n",
        "df_temp['maxTemp'] = [float(v)/10.0*1.8 + 32 for v in maxT]\n",
        "# Convert precipitation from mm/day to inch/day.\n",
        "df_temp['prcp'] = [float(v)/25.54 for v in prcp]\n",
        "\n",
        "# Show us what's at the top of the dataframe.\n",
        "# This is a good way to check you got the\n",
        "# data you expected!\n",
        "print(df_temp.head())"
      ],
      "metadata": {
        "id": "FkMyWajGywBU"
      },
      "execution_count": null,
      "outputs": []
    },
    {
      "cell_type": "markdown",
      "source": [
        "# Graphs and Questions\n",
        "\n",
        "To visualize the data, we need **graphs**. The code cell below will create **two graphs**: One of the maximum temperature versus date, and one of the minimum temperature versus date. Run this code cell.\n",
        "\n",
        "* What do you notice about these graphs?\n",
        "* What questions do you wonder after examining these graphs?"
      ],
      "metadata": {
        "id": "AkgHqRqZwZFD"
      }
    },
    {
      "cell_type": "markdown",
      "source": [
        "[double click to add your answers here]"
      ],
      "metadata": {
        "id": "Nd9IGYKBwvoT"
      }
    },
    {
      "cell_type": "code",
      "source": [
        "import matplotlib.pyplot as plt\n",
        "plt.plot(df_temp['date'],df_temp['maxTemp'])\n",
        "plt.plot(df_temp['date'],df_temp['minTemp'])"
      ],
      "metadata": {
        "id": "ZZOmJz0l1QrM"
      },
      "execution_count": null,
      "outputs": []
    },
    {
      "cell_type": "markdown",
      "source": [
        "When I examine temperature data for Jacksonville, I wonder how the range of temperature each day (maximum minus minimum) varies. You can answer this question by carrying out the following in the code cell below:\n",
        "\n",
        "1. Calcualte the **temperature range** each day. You can do this in Python using `DeltaTemp = df_temp['maxTemp']-df_temp['minTemp']`.\n",
        "2. Graph the temperature range versus time. You can do this in Pythong using `plt.plot(df_temp['date'],DeltaTemp)`.\n",
        "3. Use `np.mean()`, `np.std()`, `np.min()`, and `np.max()` to examine the stats for these temperature ranges."
      ],
      "metadata": {
        "id": "j9JmwXkrw4ai"
      }
    },
    {
      "cell_type": "code",
      "source": [],
      "metadata": {
        "id": "y2fwh1fv1bCe"
      },
      "execution_count": null,
      "outputs": []
    },
    {
      "cell_type": "markdown",
      "source": [
        "Now your turn: What informaiton do you need in order to answer your questions? Google search fo any Python functions that you need."
      ],
      "metadata": {
        "id": "QFOXp8F3yXT6"
      }
    },
    {
      "cell_type": "code",
      "source": [],
      "metadata": {
        "id": "8KdAI5LfyiU6"
      },
      "execution_count": null,
      "outputs": []
    },
    {
      "cell_type": "markdown",
      "source": [
        "Now make a graph of the precipitation versus average temperature. Do you think there might be a relationship? What about with the maximum temperature? Minimum temperature? Temperature range? Try out each of these graphs and see if you can spy a relationship. If you think there might be, make a linear regression of these datasets like we did in Day 2. Was your hunch correct?"
      ],
      "metadata": {
        "id": "TmV7_Ci8yjap"
      }
    },
    {
      "cell_type": "code",
      "source": [],
      "metadata": {
        "id": "qTgTvsjUy0aU"
      },
      "execution_count": null,
      "outputs": []
    }
  ]
}